{
 "cells": [
  {
   "cell_type": "markdown",
   "metadata": {},
   "source": [
    "### The Battle of Neighborhoods | Business Proposal | Introduction\n",
    "\n",
    "## Introduction:\n",
    "\n",
    "The whole project is turning around pizza. This comes from a personal interest in the food itself and in its reputation when it comes to relating pizza with newyork. Having personally visited newyork one time and getting lost in the search for the best pizza places, this led me to do some research. This can be a good start for someone visiting the city for the first place. It can also be interesting for someone that have in mind the opening of a new pizza business or even better to maybe opening a branch of an already reputed pizza place. \n",
    "\n",
    "First of all we will assume that the Bourough with least neighborhoods will also be most interesting for someone wanting  to explore the pizza culture in newyork. We just simply assume that less neighborhoods is related to less traffic and more ease to take the road and visit the different places. This will just restrict our study to one Bourough of the whole new york city.\n",
    "\n",
    "\n",
    "## Problem Which Tried to Solve:\n",
    "\n",
    "-Find the Bourough with least neighborhoods\n",
    "\n",
    "-Find the different pizza places in the found Bourough\n",
    "\n",
    "-Depending on the rate and number of likes, finding the best pizza places\n",
    "\n",
    "-Suggest an area to stay in in new york to easily visit the nicest pizza places outthere\n",
    "\n",
    "-Suggest an area where to open a new Pizza Place\n",
    "\n",
    "\n",
    "## The Location:\n",
    "New York is a very well known city that does not need a lot of description. Being home to various ethnic groups and worlwide organizations, it is one of the most busy cities on the globe. One thing it has been well known for aside from the serious in people faces, Pizza. We at some point heard or will hear about the conflict and debate about its Pizza being the best in the USA cutting the road on other pizza styles like the deep dish in Chicago but pizza is life anyways. And the goal is to really know its best places for serving pizza.\n",
    "\n",
    "## Foursquare API:\n",
    "This project would use Four-square API as its prime data gathering source as it has a database of millions of places, especially their places API which provides the ability to perform location search, location sharing and details about a business.\n",
    "\n",
    "## Work Flow:\n",
    "Using credentials of Foursquare API features of near-by places of the neighborhoods would be mined. Due to http request limitations the number of places per neighborhood parameter would reasonably be set to 100 and the radius parameter would be set to 500.\n",
    "\n",
    "\n",
    "## Libraries Which are Used to Develope the Project:\n",
    "\n",
    "<ins>Pandas</ins>: For creating and manipulating dataframes.\n",
    "\n",
    "<ins>Folium</ins>: Python visualization library would be used to visualize the neighborhoods cluster distribution of using interactive leaflet map.\n",
    "\n",
    "<ins>JSON</ins>: Library to handle JSON files.\n",
    "\n",
    "<ins>Geocoder</ins>: To retrieve Location Data.\n",
    "\n",
    "<ins>Matplotlib</ins>: Python Plotting Module."
   ]
  },
  {
   "cell_type": "code",
   "execution_count": null,
   "metadata": {},
   "outputs": [],
   "source": []
  }
 ],
 "metadata": {
  "kernelspec": {
   "display_name": "Python",
   "language": "python",
   "name": "conda-env-python-py"
  },
  "language_info": {
   "codemirror_mode": {
    "name": "ipython",
    "version": 3
   },
   "file_extension": ".py",
   "mimetype": "text/x-python",
   "name": "python",
   "nbconvert_exporter": "python",
   "pygments_lexer": "ipython3",
   "version": "3.6.11"
  }
 },
 "nbformat": 4,
 "nbformat_minor": 4
}
